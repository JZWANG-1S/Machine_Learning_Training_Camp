{
 "cells": [
  {
   "cell_type": "code",
   "execution_count": 1,
   "metadata": {},
   "outputs": [],
   "source": [
    "import numpy as np\n",
    "import matplotlib.pyplot as plt"
   ]
  },
  {
   "cell_type": "code",
   "execution_count": 2,
   "metadata": {},
   "outputs": [],
   "source": [
    "class SingleLinearRegression():\n",
    "    def __init__(self, k, b, m, low=0, high=10):\n",
    "        self.x = np.random.rand(m) * (high-low) + low\n",
    "        self.y = k*self.x + b\n",
    "        self.m = m\n",
    "        \n",
    "    def plot(self, a=0.01, bs=1):\n",
    "        t0, t1 = self.grad_decent(a, bs)\n",
    "        yt = t1 * self.x + t0\n",
    "        print('k:', t1, 'b:', t0)\n",
    "        plt.subplot(121)\n",
    "        plt.plot(self.x, self.y, 'o')\n",
    "        plt.subplot(122)\n",
    "        plt.plot(self.x, yt, '*', color='y')\n",
    "        \n",
    "    def cost(self, t0, t1):\n",
    "        square = t0 + t1*self.x - self.y\n",
    "        return 1 / (2*self.m) * np.matmul(square.T, square)\n",
    "        \n",
    "    def grad_decent(self, a, bs = 1):\n",
    "        t0 = t1 = np.random.rand()\n",
    "        J = self.cost(t0, t1)\n",
    "        it = 0\n",
    "        while not np.isclose(J, 0):\n",
    "            it %= 1 / bs\n",
    "            start, end = int(self.m*bs*it), min(self.m, int(self.m*bs*(it+1)))\n",
    "            x, y = self.x[start:end+1], self.y[start:end+1]\n",
    "            t0 -= a/self.m * sum(t1*x + t0 - y)\n",
    "            t1 -= a/self.m * sum((t1*x + t0 - y) * x)\n",
    "            J = self.cost(t0, t1)\n",
    "            it += 1\n",
    "        return t0, t1"
   ]
  },
  {
   "cell_type": "code",
   "execution_count": 3,
   "metadata": {},
   "outputs": [
    {
     "name": "stdout",
     "output_type": "stream",
     "text": [
      "k: 1.9999578772031417 b: -1.999723099768689\n"
     ]
    },
    {
     "data": {
      "image/png": "[encoded data removed]",
      "text/plain": [
       "<matplotlib.figure.Figure at 0x7fb23353ae48>"
      ]
     },
     "metadata": {},
     "output_type": "display_data"
    }
   ],
   "source": [
    "testcase = SingleLinearRegression(2, -2, 1000)\n",
    "testcase.plot()"
   ]
  }
 ],
 "metadata": {
  "kernelspec": {
   "display_name": "Python 3",
   "language": "python",
   "name": "python3"
  },
  "language_info": {
   "codemirror_mode": {
    "name": "ipython",
    "version": 3
   },
   "file_extension": ".py",
   "mimetype": "text/x-python",
   "name": "python",
   "nbconvert_exporter": "python",
   "pygments_lexer": "ipython3",
   "version": "3.6.5"
  }
 },
 "nbformat": 4,
 "nbformat_minor": 2
}
